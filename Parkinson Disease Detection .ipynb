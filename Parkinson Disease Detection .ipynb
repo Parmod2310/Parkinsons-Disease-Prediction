{
 "cells": [
  {
   "cell_type": "markdown",
   "id": "91ba1a3c-cd73-4058-899f-f50d88b3f669",
   "metadata": {},
   "source": [
    "# Parkinsons Disease Prediction"
   ]
  },
  {
   "cell_type": "markdown",
   "id": "5d8aa1c3-e809-48ea-ba08-3ce445c89997",
   "metadata": {},
   "source": [
    "### Importing Libraries"
   ]
  },
  {
   "cell_type": "code",
   "execution_count": 3,
   "id": "94799dae-ef20-4ea9-be72-008eed86963a",
   "metadata": {},
   "outputs": [
    {
     "name": "stderr",
     "output_type": "stream",
     "text": [
      "\n",
      "A module that was compiled using NumPy 1.x cannot be run in\n",
      "NumPy 2.1.1 as it may crash. To support both 1.x and 2.x\n",
      "versions of NumPy, modules must be compiled with NumPy 2.0.\n",
      "Some module may need to rebuild instead e.g. with 'pybind11>=2.12'.\n",
      "\n",
      "If you are a user of the module, the easiest solution will be to\n",
      "downgrade to 'numpy<2' or try to upgrade the affected module.\n",
      "We expect that some modules will need time to support NumPy 2.\n",
      "\n",
      "Traceback (most recent call last):  File \"<frozen runpy>\", line 198, in _run_module_as_main\n",
      "  File \"<frozen runpy>\", line 88, in _run_code\n",
      "  File \"C:\\Users\\parmo\\AppData\\Local\\anaconda3\\Lib\\site-packages\\ipykernel_launcher.py\", line 17, in <module>\n",
      "    app.launch_new_instance()\n",
      "  File \"C:\\Users\\parmo\\AppData\\Local\\anaconda3\\Lib\\site-packages\\traitlets\\config\\application.py\", line 992, in launch_instance\n",
      "    app.start()\n",
      "  File \"C:\\Users\\parmo\\AppData\\Local\\anaconda3\\Lib\\site-packages\\ipykernel\\kernelapp.py\", line 701, in start\n",
      "    self.io_loop.start()\n",
      "  File \"C:\\Users\\parmo\\AppData\\Local\\anaconda3\\Lib\\site-packages\\tornado\\platform\\asyncio.py\", line 195, in start\n",
      "    self.asyncio_loop.run_forever()\n",
      "  File \"C:\\Users\\parmo\\AppData\\Local\\anaconda3\\Lib\\asyncio\\windows_events.py\", line 321, in run_forever\n",
      "    super().run_forever()\n",
      "  File \"C:\\Users\\parmo\\AppData\\Local\\anaconda3\\Lib\\asyncio\\base_events.py\", line 607, in run_forever\n",
      "    self._run_once()\n",
      "  File \"C:\\Users\\parmo\\AppData\\Local\\anaconda3\\Lib\\asyncio\\base_events.py\", line 1922, in _run_once\n",
      "    handle._run()\n",
      "  File \"C:\\Users\\parmo\\AppData\\Local\\anaconda3\\Lib\\asyncio\\events.py\", line 80, in _run\n",
      "    self._context.run(self._callback, *self._args)\n",
      "  File \"C:\\Users\\parmo\\AppData\\Local\\anaconda3\\Lib\\site-packages\\ipykernel\\kernelbase.py\", line 534, in dispatch_queue\n",
      "    await self.process_one()\n",
      "  File \"C:\\Users\\parmo\\AppData\\Local\\anaconda3\\Lib\\site-packages\\ipykernel\\kernelbase.py\", line 523, in process_one\n",
      "    await dispatch(*args)\n",
      "  File \"C:\\Users\\parmo\\AppData\\Local\\anaconda3\\Lib\\site-packages\\ipykernel\\kernelbase.py\", line 429, in dispatch_shell\n",
      "    await result\n",
      "  File \"C:\\Users\\parmo\\AppData\\Local\\anaconda3\\Lib\\site-packages\\ipykernel\\kernelbase.py\", line 767, in execute_request\n",
      "    reply_content = await reply_content\n",
      "  File \"C:\\Users\\parmo\\AppData\\Local\\anaconda3\\Lib\\site-packages\\ipykernel\\ipkernel.py\", line 429, in do_execute\n",
      "    res = shell.run_cell(\n",
      "  File \"C:\\Users\\parmo\\AppData\\Local\\anaconda3\\Lib\\site-packages\\ipykernel\\zmqshell.py\", line 549, in run_cell\n",
      "    return super().run_cell(*args, **kwargs)\n",
      "  File \"C:\\Users\\parmo\\AppData\\Local\\anaconda3\\Lib\\site-packages\\IPython\\core\\interactiveshell.py\", line 3051, in run_cell\n",
      "    result = self._run_cell(\n",
      "  File \"C:\\Users\\parmo\\AppData\\Local\\anaconda3\\Lib\\site-packages\\IPython\\core\\interactiveshell.py\", line 3106, in _run_cell\n",
      "    result = runner(coro)\n",
      "  File \"C:\\Users\\parmo\\AppData\\Local\\anaconda3\\Lib\\site-packages\\IPython\\core\\async_helpers.py\", line 129, in _pseudo_sync_runner\n",
      "    coro.send(None)\n",
      "  File \"C:\\Users\\parmo\\AppData\\Local\\anaconda3\\Lib\\site-packages\\IPython\\core\\interactiveshell.py\", line 3311, in run_cell_async\n",
      "    has_raised = await self.run_ast_nodes(code_ast.body, cell_name,\n",
      "  File \"C:\\Users\\parmo\\AppData\\Local\\anaconda3\\Lib\\site-packages\\IPython\\core\\interactiveshell.py\", line 3493, in run_ast_nodes\n",
      "    if await self.run_code(code, result, async_=asy):\n",
      "  File \"C:\\Users\\parmo\\AppData\\Local\\anaconda3\\Lib\\site-packages\\IPython\\core\\interactiveshell.py\", line 3553, in run_code\n",
      "    exec(code_obj, self.user_global_ns, self.user_ns)\n",
      "  File \"C:\\Users\\parmo\\AppData\\Local\\Temp\\ipykernel_267752\\2435727768.py\", line 3, in <module>\n",
      "    import seaborn as sns\n",
      "  File \"C:\\Users\\parmo\\AppData\\Local\\anaconda3\\Lib\\site-packages\\seaborn\\__init__.py\", line 2, in <module>\n",
      "    from .rcmod import *  # noqa: F401,F403\n",
      "  File \"C:\\Users\\parmo\\AppData\\Local\\anaconda3\\Lib\\site-packages\\seaborn\\rcmod.py\", line 3, in <module>\n",
      "    import matplotlib as mpl\n",
      "  File \"C:\\Users\\parmo\\AppData\\Local\\anaconda3\\Lib\\site-packages\\matplotlib\\__init__.py\", line 161, in <module>\n",
      "    from . import _api, _version, cbook, _docstring, rcsetup\n",
      "  File \"C:\\Users\\parmo\\AppData\\Local\\anaconda3\\Lib\\site-packages\\matplotlib\\rcsetup.py\", line 27, in <module>\n",
      "    from matplotlib.colors import Colormap, is_color_like\n",
      "  File \"C:\\Users\\parmo\\AppData\\Local\\anaconda3\\Lib\\site-packages\\matplotlib\\colors.py\", line 57, in <module>\n",
      "    from matplotlib import _api, _cm, cbook, scale\n",
      "  File \"C:\\Users\\parmo\\AppData\\Local\\anaconda3\\Lib\\site-packages\\matplotlib\\scale.py\", line 22, in <module>\n",
      "    from matplotlib.ticker import (\n",
      "  File \"C:\\Users\\parmo\\AppData\\Local\\anaconda3\\Lib\\site-packages\\matplotlib\\ticker.py\", line 143, in <module>\n",
      "    from matplotlib import transforms as mtransforms\n",
      "  File \"C:\\Users\\parmo\\AppData\\Local\\anaconda3\\Lib\\site-packages\\matplotlib\\transforms.py\", line 49, in <module>\n",
      "    from matplotlib._path import (\n"
     ]
    },
    {
     "ename": "AttributeError",
     "evalue": "_ARRAY_API not found",
     "output_type": "error",
     "traceback": [
      "\u001b[1;31m---------------------------------------------------------------------------\u001b[0m",
      "\u001b[1;31mAttributeError\u001b[0m                            Traceback (most recent call last)",
      "\u001b[1;31mAttributeError\u001b[0m: _ARRAY_API not found"
     ]
    },
    {
     "ename": "ImportError",
     "evalue": "numpy.core.multiarray failed to import",
     "output_type": "error",
     "traceback": [
      "\u001b[1;31m---------------------------------------------------------------------------\u001b[0m",
      "\u001b[1;31mImportError\u001b[0m                               Traceback (most recent call last)",
      "Cell \u001b[1;32mIn[3], line 3\u001b[0m\n\u001b[0;32m      1\u001b[0m \u001b[38;5;28;01mimport\u001b[39;00m \u001b[38;5;21;01mpandas\u001b[39;00m \u001b[38;5;28;01mas\u001b[39;00m \u001b[38;5;21;01mpd\u001b[39;00m\n\u001b[0;32m      2\u001b[0m \u001b[38;5;28;01mimport\u001b[39;00m \u001b[38;5;21;01mnumpy\u001b[39;00m \u001b[38;5;28;01mas\u001b[39;00m \u001b[38;5;21;01mnp\u001b[39;00m\n\u001b[1;32m----> 3\u001b[0m \u001b[38;5;28;01mimport\u001b[39;00m \u001b[38;5;21;01mseaborn\u001b[39;00m \u001b[38;5;28;01mas\u001b[39;00m \u001b[38;5;21;01msns\u001b[39;00m\n\u001b[0;32m      4\u001b[0m \u001b[38;5;28;01mimport\u001b[39;00m \u001b[38;5;21;01mmatplotlib\u001b[39;00m\u001b[38;5;21;01m.\u001b[39;00m\u001b[38;5;21;01mpyplot\u001b[39;00m \u001b[38;5;28;01mas\u001b[39;00m \u001b[38;5;21;01mplt\u001b[39;00m\n\u001b[0;32m      5\u001b[0m get_ipython()\u001b[38;5;241m.\u001b[39mrun_line_magic(\u001b[38;5;124m'\u001b[39m\u001b[38;5;124mmatplotlib\u001b[39m\u001b[38;5;124m'\u001b[39m, \u001b[38;5;124m'\u001b[39m\u001b[38;5;124minline\u001b[39m\u001b[38;5;124m'\u001b[39m)\n",
      "File \u001b[1;32m~\\AppData\\Local\\anaconda3\\Lib\\site-packages\\seaborn\\__init__.py:2\u001b[0m\n\u001b[0;32m      1\u001b[0m \u001b[38;5;66;03m# Import seaborn objects\u001b[39;00m\n\u001b[1;32m----> 2\u001b[0m \u001b[38;5;28;01mfrom\u001b[39;00m \u001b[38;5;21;01m.\u001b[39;00m\u001b[38;5;21;01mrcmod\u001b[39;00m \u001b[38;5;28;01mimport\u001b[39;00m \u001b[38;5;241m*\u001b[39m  \u001b[38;5;66;03m# noqa: F401,F403\u001b[39;00m\n\u001b[0;32m      3\u001b[0m \u001b[38;5;28;01mfrom\u001b[39;00m \u001b[38;5;21;01m.\u001b[39;00m\u001b[38;5;21;01mutils\u001b[39;00m \u001b[38;5;28;01mimport\u001b[39;00m \u001b[38;5;241m*\u001b[39m  \u001b[38;5;66;03m# noqa: F401,F403\u001b[39;00m\n\u001b[0;32m      4\u001b[0m \u001b[38;5;28;01mfrom\u001b[39;00m \u001b[38;5;21;01m.\u001b[39;00m\u001b[38;5;21;01mpalettes\u001b[39;00m \u001b[38;5;28;01mimport\u001b[39;00m \u001b[38;5;241m*\u001b[39m  \u001b[38;5;66;03m# noqa: F401,F403\u001b[39;00m\n",
      "File \u001b[1;32m~\\AppData\\Local\\anaconda3\\Lib\\site-packages\\seaborn\\rcmod.py:3\u001b[0m\n\u001b[0;32m      1\u001b[0m \u001b[38;5;124;03m\"\"\"Control plot style and scaling using the matplotlib rcParams interface.\"\"\"\u001b[39;00m\n\u001b[0;32m      2\u001b[0m \u001b[38;5;28;01mimport\u001b[39;00m \u001b[38;5;21;01mfunctools\u001b[39;00m\n\u001b[1;32m----> 3\u001b[0m \u001b[38;5;28;01mimport\u001b[39;00m \u001b[38;5;21;01mmatplotlib\u001b[39;00m \u001b[38;5;28;01mas\u001b[39;00m \u001b[38;5;21;01mmpl\u001b[39;00m\n\u001b[0;32m      4\u001b[0m \u001b[38;5;28;01mfrom\u001b[39;00m \u001b[38;5;21;01mcycler\u001b[39;00m \u001b[38;5;28;01mimport\u001b[39;00m cycler\n\u001b[0;32m      5\u001b[0m \u001b[38;5;28;01mfrom\u001b[39;00m \u001b[38;5;21;01m.\u001b[39;00m \u001b[38;5;28;01mimport\u001b[39;00m palettes\n",
      "File \u001b[1;32m~\\AppData\\Local\\anaconda3\\Lib\\site-packages\\matplotlib\\__init__.py:161\u001b[0m\n\u001b[0;32m    157\u001b[0m \u001b[38;5;28;01mfrom\u001b[39;00m \u001b[38;5;21;01mpackaging\u001b[39;00m\u001b[38;5;21;01m.\u001b[39;00m\u001b[38;5;21;01mversion\u001b[39;00m \u001b[38;5;28;01mimport\u001b[39;00m parse \u001b[38;5;28;01mas\u001b[39;00m parse_version\n\u001b[0;32m    159\u001b[0m \u001b[38;5;66;03m# cbook must import matplotlib only within function\u001b[39;00m\n\u001b[0;32m    160\u001b[0m \u001b[38;5;66;03m# definitions, so it is safe to import from it here.\u001b[39;00m\n\u001b[1;32m--> 161\u001b[0m \u001b[38;5;28;01mfrom\u001b[39;00m \u001b[38;5;21;01m.\u001b[39;00m \u001b[38;5;28;01mimport\u001b[39;00m _api, _version, cbook, _docstring, rcsetup\n\u001b[0;32m    162\u001b[0m \u001b[38;5;28;01mfrom\u001b[39;00m \u001b[38;5;21;01mmatplotlib\u001b[39;00m\u001b[38;5;21;01m.\u001b[39;00m\u001b[38;5;21;01mcbook\u001b[39;00m \u001b[38;5;28;01mimport\u001b[39;00m sanitize_sequence\n\u001b[0;32m    163\u001b[0m \u001b[38;5;28;01mfrom\u001b[39;00m \u001b[38;5;21;01mmatplotlib\u001b[39;00m\u001b[38;5;21;01m.\u001b[39;00m\u001b[38;5;21;01m_api\u001b[39;00m \u001b[38;5;28;01mimport\u001b[39;00m MatplotlibDeprecationWarning\n",
      "File \u001b[1;32m~\\AppData\\Local\\anaconda3\\Lib\\site-packages\\matplotlib\\rcsetup.py:27\u001b[0m\n\u001b[0;32m     25\u001b[0m \u001b[38;5;28;01mfrom\u001b[39;00m \u001b[38;5;21;01mmatplotlib\u001b[39;00m \u001b[38;5;28;01mimport\u001b[39;00m _api, cbook\n\u001b[0;32m     26\u001b[0m \u001b[38;5;28;01mfrom\u001b[39;00m \u001b[38;5;21;01mmatplotlib\u001b[39;00m\u001b[38;5;21;01m.\u001b[39;00m\u001b[38;5;21;01mcbook\u001b[39;00m \u001b[38;5;28;01mimport\u001b[39;00m ls_mapper\n\u001b[1;32m---> 27\u001b[0m \u001b[38;5;28;01mfrom\u001b[39;00m \u001b[38;5;21;01mmatplotlib\u001b[39;00m\u001b[38;5;21;01m.\u001b[39;00m\u001b[38;5;21;01mcolors\u001b[39;00m \u001b[38;5;28;01mimport\u001b[39;00m Colormap, is_color_like\n\u001b[0;32m     28\u001b[0m \u001b[38;5;28;01mfrom\u001b[39;00m \u001b[38;5;21;01mmatplotlib\u001b[39;00m\u001b[38;5;21;01m.\u001b[39;00m\u001b[38;5;21;01m_fontconfig_pattern\u001b[39;00m \u001b[38;5;28;01mimport\u001b[39;00m parse_fontconfig_pattern\n\u001b[0;32m     29\u001b[0m \u001b[38;5;28;01mfrom\u001b[39;00m \u001b[38;5;21;01mmatplotlib\u001b[39;00m\u001b[38;5;21;01m.\u001b[39;00m\u001b[38;5;21;01m_enums\u001b[39;00m \u001b[38;5;28;01mimport\u001b[39;00m JoinStyle, CapStyle\n",
      "File \u001b[1;32m~\\AppData\\Local\\anaconda3\\Lib\\site-packages\\matplotlib\\colors.py:57\u001b[0m\n\u001b[0;32m     55\u001b[0m \u001b[38;5;28;01mimport\u001b[39;00m \u001b[38;5;21;01mmatplotlib\u001b[39;00m \u001b[38;5;28;01mas\u001b[39;00m \u001b[38;5;21;01mmpl\u001b[39;00m\n\u001b[0;32m     56\u001b[0m \u001b[38;5;28;01mimport\u001b[39;00m \u001b[38;5;21;01mnumpy\u001b[39;00m \u001b[38;5;28;01mas\u001b[39;00m \u001b[38;5;21;01mnp\u001b[39;00m\n\u001b[1;32m---> 57\u001b[0m \u001b[38;5;28;01mfrom\u001b[39;00m \u001b[38;5;21;01mmatplotlib\u001b[39;00m \u001b[38;5;28;01mimport\u001b[39;00m _api, _cm, cbook, scale\n\u001b[0;32m     58\u001b[0m \u001b[38;5;28;01mfrom\u001b[39;00m \u001b[38;5;21;01m.\u001b[39;00m\u001b[38;5;21;01m_color_data\u001b[39;00m \u001b[38;5;28;01mimport\u001b[39;00m BASE_COLORS, TABLEAU_COLORS, CSS4_COLORS, XKCD_COLORS\n\u001b[0;32m     61\u001b[0m \u001b[38;5;28;01mclass\u001b[39;00m \u001b[38;5;21;01m_ColorMapping\u001b[39;00m(\u001b[38;5;28mdict\u001b[39m):\n",
      "File \u001b[1;32m~\\AppData\\Local\\anaconda3\\Lib\\site-packages\\matplotlib\\scale.py:22\u001b[0m\n\u001b[0;32m     20\u001b[0m \u001b[38;5;28;01mimport\u001b[39;00m \u001b[38;5;21;01mmatplotlib\u001b[39;00m \u001b[38;5;28;01mas\u001b[39;00m \u001b[38;5;21;01mmpl\u001b[39;00m\n\u001b[0;32m     21\u001b[0m \u001b[38;5;28;01mfrom\u001b[39;00m \u001b[38;5;21;01mmatplotlib\u001b[39;00m \u001b[38;5;28;01mimport\u001b[39;00m _api, _docstring\n\u001b[1;32m---> 22\u001b[0m \u001b[38;5;28;01mfrom\u001b[39;00m \u001b[38;5;21;01mmatplotlib\u001b[39;00m\u001b[38;5;21;01m.\u001b[39;00m\u001b[38;5;21;01mticker\u001b[39;00m \u001b[38;5;28;01mimport\u001b[39;00m (\n\u001b[0;32m     23\u001b[0m     NullFormatter, ScalarFormatter, LogFormatterSciNotation, LogitFormatter,\n\u001b[0;32m     24\u001b[0m     NullLocator, LogLocator, AutoLocator, AutoMinorLocator,\n\u001b[0;32m     25\u001b[0m     SymmetricalLogLocator, AsinhLocator, LogitLocator)\n\u001b[0;32m     26\u001b[0m \u001b[38;5;28;01mfrom\u001b[39;00m \u001b[38;5;21;01mmatplotlib\u001b[39;00m\u001b[38;5;21;01m.\u001b[39;00m\u001b[38;5;21;01mtransforms\u001b[39;00m \u001b[38;5;28;01mimport\u001b[39;00m Transform, IdentityTransform\n\u001b[0;32m     29\u001b[0m \u001b[38;5;28;01mclass\u001b[39;00m \u001b[38;5;21;01mScaleBase\u001b[39;00m:\n",
      "File \u001b[1;32m~\\AppData\\Local\\anaconda3\\Lib\\site-packages\\matplotlib\\ticker.py:143\u001b[0m\n\u001b[0;32m    141\u001b[0m \u001b[38;5;28;01mimport\u001b[39;00m \u001b[38;5;21;01mmatplotlib\u001b[39;00m \u001b[38;5;28;01mas\u001b[39;00m \u001b[38;5;21;01mmpl\u001b[39;00m\n\u001b[0;32m    142\u001b[0m \u001b[38;5;28;01mfrom\u001b[39;00m \u001b[38;5;21;01mmatplotlib\u001b[39;00m \u001b[38;5;28;01mimport\u001b[39;00m _api, cbook\n\u001b[1;32m--> 143\u001b[0m \u001b[38;5;28;01mfrom\u001b[39;00m \u001b[38;5;21;01mmatplotlib\u001b[39;00m \u001b[38;5;28;01mimport\u001b[39;00m transforms \u001b[38;5;28;01mas\u001b[39;00m mtransforms\n\u001b[0;32m    145\u001b[0m _log \u001b[38;5;241m=\u001b[39m logging\u001b[38;5;241m.\u001b[39mgetLogger(\u001b[38;5;18m__name__\u001b[39m)\n\u001b[0;32m    147\u001b[0m __all__ \u001b[38;5;241m=\u001b[39m (\u001b[38;5;124m'\u001b[39m\u001b[38;5;124mTickHelper\u001b[39m\u001b[38;5;124m'\u001b[39m, \u001b[38;5;124m'\u001b[39m\u001b[38;5;124mFormatter\u001b[39m\u001b[38;5;124m'\u001b[39m, \u001b[38;5;124m'\u001b[39m\u001b[38;5;124mFixedFormatter\u001b[39m\u001b[38;5;124m'\u001b[39m,\n\u001b[0;32m    148\u001b[0m            \u001b[38;5;124m'\u001b[39m\u001b[38;5;124mNullFormatter\u001b[39m\u001b[38;5;124m'\u001b[39m, \u001b[38;5;124m'\u001b[39m\u001b[38;5;124mFuncFormatter\u001b[39m\u001b[38;5;124m'\u001b[39m, \u001b[38;5;124m'\u001b[39m\u001b[38;5;124mFormatStrFormatter\u001b[39m\u001b[38;5;124m'\u001b[39m,\n\u001b[0;32m    149\u001b[0m            \u001b[38;5;124m'\u001b[39m\u001b[38;5;124mStrMethodFormatter\u001b[39m\u001b[38;5;124m'\u001b[39m, \u001b[38;5;124m'\u001b[39m\u001b[38;5;124mScalarFormatter\u001b[39m\u001b[38;5;124m'\u001b[39m, \u001b[38;5;124m'\u001b[39m\u001b[38;5;124mLogFormatter\u001b[39m\u001b[38;5;124m'\u001b[39m,\n\u001b[1;32m   (...)\u001b[0m\n\u001b[0;32m    155\u001b[0m            \u001b[38;5;124m'\u001b[39m\u001b[38;5;124mMultipleLocator\u001b[39m\u001b[38;5;124m'\u001b[39m, \u001b[38;5;124m'\u001b[39m\u001b[38;5;124mMaxNLocator\u001b[39m\u001b[38;5;124m'\u001b[39m, \u001b[38;5;124m'\u001b[39m\u001b[38;5;124mAutoMinorLocator\u001b[39m\u001b[38;5;124m'\u001b[39m,\n\u001b[0;32m    156\u001b[0m            \u001b[38;5;124m'\u001b[39m\u001b[38;5;124mSymmetricalLogLocator\u001b[39m\u001b[38;5;124m'\u001b[39m, \u001b[38;5;124m'\u001b[39m\u001b[38;5;124mAsinhLocator\u001b[39m\u001b[38;5;124m'\u001b[39m, \u001b[38;5;124m'\u001b[39m\u001b[38;5;124mLogitLocator\u001b[39m\u001b[38;5;124m'\u001b[39m)\n",
      "File \u001b[1;32m~\\AppData\\Local\\anaconda3\\Lib\\site-packages\\matplotlib\\transforms.py:49\u001b[0m\n\u001b[0;32m     46\u001b[0m \u001b[38;5;28;01mfrom\u001b[39;00m \u001b[38;5;21;01mnumpy\u001b[39;00m\u001b[38;5;21;01m.\u001b[39;00m\u001b[38;5;21;01mlinalg\u001b[39;00m \u001b[38;5;28;01mimport\u001b[39;00m inv\n\u001b[0;32m     48\u001b[0m \u001b[38;5;28;01mfrom\u001b[39;00m \u001b[38;5;21;01mmatplotlib\u001b[39;00m \u001b[38;5;28;01mimport\u001b[39;00m _api\n\u001b[1;32m---> 49\u001b[0m \u001b[38;5;28;01mfrom\u001b[39;00m \u001b[38;5;21;01mmatplotlib\u001b[39;00m\u001b[38;5;21;01m.\u001b[39;00m\u001b[38;5;21;01m_path\u001b[39;00m \u001b[38;5;28;01mimport\u001b[39;00m (\n\u001b[0;32m     50\u001b[0m     affine_transform, count_bboxes_overlapping_bbox, update_path_extents)\n\u001b[0;32m     51\u001b[0m \u001b[38;5;28;01mfrom\u001b[39;00m \u001b[38;5;21;01m.\u001b[39;00m\u001b[38;5;21;01mpath\u001b[39;00m \u001b[38;5;28;01mimport\u001b[39;00m Path\n\u001b[0;32m     53\u001b[0m DEBUG \u001b[38;5;241m=\u001b[39m \u001b[38;5;28;01mFalse\u001b[39;00m\n",
      "\u001b[1;31mImportError\u001b[0m: numpy.core.multiarray failed to import"
     ]
    }
   ],
   "source": [
    "import pandas as pd\n",
    "import numpy as np\n",
    "import seaborn as sns\n",
    "import matplotlib.pyplot as plt\n",
    "%matplotlib inline\n",
    "from sklearn import metrics\n",
    "from sklearn.model_selection import train_test_split\n",
    "from sklearn.linear_model import LogisticRegression\n",
    "from sklearn.ensemble import RandomForestClassifier\n",
    "from sklearn.metrics import accuracy_score, confusion_matrix, classification_report \n",
    "import os\n"
   ]
  },
  {
   "cell_type": "markdown",
   "id": "5897ba40-4856-43ee-87d5-390032966d9e",
   "metadata": {},
   "source": [
    "### Data Collection"
   ]
  },
  {
   "cell_type": "code",
   "execution_count": 2,
   "id": "f05e28ed-da44-429a-95d8-0f3253dc7cf0",
   "metadata": {},
   "outputs": [
    {
     "ename": "NameError",
     "evalue": "name 'os' is not defined",
     "output_type": "error",
     "traceback": [
      "\u001b[1;31m---------------------------------------------------------------------------\u001b[0m",
      "\u001b[1;31mNameError\u001b[0m                                 Traceback (most recent call last)",
      "Cell \u001b[1;32mIn[2], line 1\u001b[0m\n\u001b[1;32m----> 1\u001b[0m display(os\u001b[38;5;241m.\u001b[39mgetcwd())\n",
      "\u001b[1;31mNameError\u001b[0m: name 'os' is not defined"
     ]
    }
   ],
   "source": [
    "display(os.getcwd())"
   ]
  },
  {
   "cell_type": "code",
   "execution_count": null,
   "id": "9899e70c-8333-4fb0-8eea-dd523f9c010c",
   "metadata": {},
   "outputs": [],
   "source": [
    "df=pd.read_csv('parkinsons.data')"
   ]
  },
  {
   "cell_type": "markdown",
   "id": "1e12caee-f456-4153-8696-07aea09a695b",
   "metadata": {},
   "source": [
    "### Data Preprocessing"
   ]
  },
  {
   "cell_type": "code",
   "execution_count": null,
   "id": "3e263d41-efc8-4068-b52f-489444f14950",
   "metadata": {},
   "outputs": [],
   "source": [
    "display (df)"
   ]
  },
  {
   "cell_type": "code",
   "execution_count": null,
   "id": "38ec9d91-cd45-489d-8ae3-21fcc23394d0",
   "metadata": {
    "scrolled": true
   },
   "outputs": [],
   "source": [
    "import ydata_profiling as pf\n",
    "display(pf.ProfileReport(df))"
   ]
  },
  {
   "cell_type": "code",
   "execution_count": null,
   "id": "87c78c62-f7e7-4c92-95f9-b2be559ac702",
   "metadata": {},
   "outputs": [],
   "source": [
    "#Display the shape \n",
    "display (df.shape)"
   ]
  },
  {
   "cell_type": "code",
   "execution_count": null,
   "id": "7a039807-3ce7-46b4-a518-2f4c6052f44a",
   "metadata": {},
   "outputs": [],
   "source": [
    "#Number of rows \n",
    "print (len(df))"
   ]
  },
  {
   "cell_type": "code",
   "execution_count": null,
   "id": "107336d7-c2cd-42da-8e74-c1f0d0cc82d8",
   "metadata": {
    "scrolled": true
   },
   "outputs": [],
   "source": [
    "# display data types\n",
    "display(df.dtypes)"
   ]
  },
  {
   "cell_type": "markdown",
   "id": "c29b2c1a-2991-438c-b75a-5784dc570f8b",
   "metadata": {},
   "source": [
    "### Display Details "
   ]
  },
  {
   "cell_type": "code",
   "execution_count": null,
   "id": "d4f07d7f-47af-4fb4-9a13-b9bd21b77948",
   "metadata": {},
   "outputs": [],
   "source": [
    "print (df.info())"
   ]
  },
  {
   "cell_type": "code",
   "execution_count": null,
   "id": "94edb0f1-978c-46d2-8261-e90eff5185e6",
   "metadata": {},
   "outputs": [],
   "source": [
    "#Describe the details \n",
    "display (df.describe())"
   ]
  },
  {
   "cell_type": "code",
   "execution_count": null,
   "id": "e02ffa35-8acc-4688-9a78-029777800785",
   "metadata": {},
   "outputs": [],
   "source": [
    "#Check for Null Values \n",
    "display (df.isna().sum() )"
   ]
  },
  {
   "cell_type": "code",
   "execution_count": null,
   "id": "5d2d4ace-fae9-418e-8be6-04dbfca54aa3",
   "metadata": {},
   "outputs": [],
   "source": [
    "# Display column details  \n",
    "print (df.columns)"
   ]
  },
  {
   "cell_type": "code",
   "execution_count": null,
   "id": "49485615-652c-49ac-ab7c-93dac50922ed",
   "metadata": {},
   "outputs": [],
   "source": [
    "# Display the dependent variable  \n",
    "# status - health status of the subject (one) - Parkinson's, (zero) – healthy\n",
    "print (df['status'])"
   ]
  },
  {
   "cell_type": "markdown",
   "id": "3e403a10-d1b7-4051-9f67-7ad83686b918",
   "metadata": {},
   "source": [
    "## Exploratry Data Analysis"
   ]
  },
  {
   "cell_type": "markdown",
   "id": "061d8e7b-0a07-46b2-bee8-7328e05d0f94",
   "metadata": {},
   "source": [
    "### Histogram with Status column "
   ]
  },
  {
   "cell_type": "code",
   "execution_count": null,
   "id": "30a840d3-f62c-4d24-90ed-367d12a72a55",
   "metadata": {},
   "outputs": [],
   "source": [
    "# The dataset has high number of patients effected with Parkinson's disease.\n",
    "plt.figure(figsize=(10, 6))\n",
    "df.status.hist()\n",
    "plt.xlabel('Status')\n",
    "plt.ylabel('Frequencies')\n",
    "plt.plot()\n",
    "plt.show()"
   ]
  },
  {
   "cell_type": "markdown",
   "id": "32771ec1-7045-4fe2-8f03-a3148069b9b9",
   "metadata": {},
   "source": [
    "### The patients affected with Parkinson's disease have high NHR which is the measure of the ratio of noise to tonal components in the voice.\n",
    " - bar graf of X-Axis Status and y-Axis NHR"
   ]
  },
  {
   "cell_type": "code",
   "execution_count": null,
   "id": "fb787ef8-d78e-4068-b2b6-2a2bb0f29ea2",
   "metadata": {},
   "outputs": [],
   "source": [
    "plt.figure(figsize=(8,6))\n",
    "sns.barplot(x='status',y='NHR',data=df);\n",
    "plt.show()"
   ]
  },
  {
   "cell_type": "markdown",
   "id": "049ba7eb-7aa2-48e0-ba16-18662774b087",
   "metadata": {},
   "source": [
    "#### The patients affected with Parkinson's disease have high HNR that is the measure of the ratio of noise to tonal components in the voice\n",
    "- create a bar graph X-Axis status and Y-Axis HNR"
   ]
  },
  {
   "cell_type": "code",
   "execution_count": null,
   "id": "a42933fe-1208-4234-ac54-7e71da6d855c",
   "metadata": {},
   "outputs": [],
   "source": [
    "plt.figure(figsize=(8,6))\n",
    "sns.barplot(x='status',y='HNR',data=df)\n",
    "plt.show()"
   ]
  },
  {
   "cell_type": "markdown",
   "id": "14b96028-d6c1-42ca-aeb7-c975ba7391f3",
   "metadata": {},
   "source": [
    "#### The nonlinear dynamical complexity measure RPDE is high in the patients affected with Parkinson's disease.\n",
    "- create bar plot of the X-Axis status and Y-Axis RPDE"
   ]
  },
  {
   "cell_type": "code",
   "execution_count": null,
   "id": "5593e7ea-3470-43a3-9d12-d53848dcdda3",
   "metadata": {},
   "outputs": [],
   "source": [
    "plt.figure(figsize=(8,6))\n",
    "sns.barplot(x='status',y='RPDE',data=df);\n",
    "plt.show()"
   ]
  },
  {
   "cell_type": "markdown",
   "id": "2724b5e2-634d-4b67-beaa-2b9c8b0dbce3",
   "metadata": {},
   "source": [
    "### Distribution plot"
   ]
  },
  {
   "cell_type": "code",
   "execution_count": null,
   "id": "40592547-99b9-4054-bba4-586ba7ebf3af",
   "metadata": {},
   "outputs": [],
   "source": [
    "import warnings\n",
    "warnings.filterwarnings('ignore')\n",
    "rows=3\n",
    "cols=7\n",
    "fig, ax=plt.subplots(nrows=rows,ncols=cols,figsize=(16,4))\n",
    "col=df.columns\n",
    "index=1\n",
    "for i in range(rows):\n",
    "    for j in range(cols):\n",
    "        sns.distplot(df[col[index]],ax=ax[i][j])\n",
    "        index=index+1\n",
    "        \n",
    "plt.tight_layout()\n",
    "plt.show()"
   ]
  },
  {
   "cell_type": "markdown",
   "id": "12bf3648-8777-4f10-a059-0b09fe726157",
   "metadata": {},
   "source": [
    "### Relational matrix"
   ]
  },
  {
   "cell_type": "code",
   "execution_count": null,
   "id": "6b9cb3ed-4188-4a2b-a756-b893a5fb4133",
   "metadata": {},
   "outputs": [],
   "source": [
    "# Display the data types of each column\n",
    "print(df.dtypes)\n",
    "\n",
    "# Alternatively, get a list of non-numeric columns\n",
    "non_numeric_columns = df.select_dtypes(exclude=['number']).columns.tolist()\n",
    "print(\"Non-numeric columns:\", non_numeric_columns)\n"
   ]
  },
  {
   "cell_type": "code",
   "execution_count": null,
   "id": "323f68c4-723f-4a67-9373-4a6ad177e722",
   "metadata": {},
   "outputs": [],
   "source": [
    "# Drop non-numeric columns\n",
    "df_numeric = df.select_dtypes(include=['number'])\n"
   ]
  },
  {
   "cell_type": "code",
   "execution_count": null,
   "id": "adb289ae-5245-4fc1-a3fb-0a3d2aa4a5f5",
   "metadata": {},
   "outputs": [],
   "source": [
    "# Calculate the correlation matrix\n",
    "corr = df_numeric.corr()\n",
    "\n",
    "# Display the correlation matrix\n",
    "display(corr)\n"
   ]
  },
  {
   "cell_type": "code",
   "execution_count": null,
   "id": "f6bfdc15-0b0f-48d0-8973-26ce0edf32f5",
   "metadata": {},
   "outputs": [],
   "source": [
    "df.columns"
   ]
  },
  {
   "cell_type": "markdown",
   "id": "b95e8f19-44ec-4d81-8f44-7dfad3927911",
   "metadata": {},
   "source": [
    "### Heat Map"
   ]
  },
  {
   "cell_type": "code",
   "execution_count": null,
   "id": "e11fa06f-2e52-4f16-8787-78b0c50d5272",
   "metadata": {},
   "outputs": [],
   "source": [
    "from matplotlib.pylab import rcParams\n",
    "rcParams['figure.figsize'] = 20,15\n",
    "sns.heatmap(corr, xticklabels=corr.columns, yticklabels=corr.columns, cmap='cubehelix',annot = True)\n",
    "plt.show()"
   ]
  },
  {
   "cell_type": "code",
   "execution_count": null,
   "id": "4d4f46df-8f66-4916-8771-16c62ea29cd8",
   "metadata": {},
   "outputs": [],
   "source": [
    "# Exclude non-numeric columns from the dataframe\n",
    "df_numeric = df.select_dtypes(include=[np.number])\n",
    "\n",
    "# Now create the heatmap for the correlation matrix of numeric data\n",
    "plt.figure(figsize=(20, 10))\n",
    "sns.heatmap(df_numeric.corr(), cmap='cubehelix', annot=True, fmt='.2f')\n",
    "plt.show()\n"
   ]
  },
  {
   "cell_type": "code",
   "execution_count": null,
   "id": "92af4fe7-ac1e-4ba2-b284-47ac79fc2e1c",
   "metadata": {},
   "outputs": [],
   "source": [
    "# Check the non-numeric columns\n",
    "non_numeric_columns = df.select_dtypes(exclude=[np.number]).columns\n",
    "print(\"Non-numeric columns: \", non_numeric_columns)\n"
   ]
  },
  {
   "cell_type": "code",
   "execution_count": null,
   "id": "ba98da1f-8424-4a73-8cc4-95951adf3122",
   "metadata": {},
   "outputs": [],
   "source": [
    "from matplotlib.pylab import rcParams\n",
    "rcParams['figure.figsize']=20,10\n",
    "sns.heatmap(corr)\n",
    "plt.show()"
   ]
  },
  {
   "cell_type": "markdown",
   "id": "cc54741c-90f3-4fe1-96ea-9e7e8b10ac0c",
   "metadata": {},
   "source": [
    "### Box Plot"
   ]
  },
  {
   "cell_type": "code",
   "execution_count": null,
   "id": "6afea82d-5278-4966-9010-bf1c51a57871",
   "metadata": {},
   "outputs": [],
   "source": [
    "fig,axes=plt.subplots(5,5,figsize=(15,15))\n",
    "axes=axes.flatten()\n",
    "\n",
    "for i in range(1,len(df.columns)-1):\n",
    "    sns.boxplot(x='status',y=df.iloc[:,i],data=df,orient='v',ax=axes[i])\n",
    "plt.tight_layout()\n",
    "plt.show()"
   ]
  },
  {
   "cell_type": "code",
   "execution_count": null,
   "id": "95fdf89f-e904-4433-b452-93257b217504",
   "metadata": {},
   "outputs": [],
   "source": [
    "plt.rcParams['figure.figsize'] = (15, 4)\n",
    "sns.pairplot(df,hue = 'status', vars = ['MDVP:Jitter(%)','MDVP:Jitter(Abs)','MDVP:RAP','MDVP:PPQ', 'Jitter:DDP'] )\n",
    "plt.show()"
   ]
  },
  {
   "cell_type": "code",
   "execution_count": null,
   "id": "ccf1386d-6a44-4596-a90f-cbeec0f5dbe3",
   "metadata": {},
   "outputs": [],
   "source": [
    "plt.rcParams['figure.figsize'] = (15, 4)\n",
    "sns.pairplot(df,hue = 'status', vars = ['MDVP:Shimmer','MDVP:Shimmer(dB)','Shimmer:APQ3','Shimmer:APQ5','MDVP:APQ','Shimmer:DDA'] )\n",
    "plt.show()"
   ]
  },
  {
   "cell_type": "markdown",
   "id": "b3849e1c-359b-4960-b3bf-979258128840",
   "metadata": {},
   "source": [
    "###  Deleting 'name' column"
   ]
  },
  {
   "cell_type": "code",
   "execution_count": null,
   "id": "3e1c1255-ae6d-44f3-a7d4-5828e00bde7e",
   "metadata": {},
   "outputs": [],
   "source": [
    "df=pd.read_csv('parkinsons.data')\n",
    "df.drop(['name'], inplace=True, axis=1)\n",
    "print(\"\\nCSV Data after deleting the column 'name':\\n\")\n",
    "print(df)"
   ]
  },
  {
   "cell_type": "code",
   "execution_count": null,
   "id": "903dd64a-91d4-48dc-8544-aee06fabc091",
   "metadata": {},
   "outputs": [],
   "source": [
    "# Train test split the data into x and y\n",
    "from sklearn.model_selection import train_test_split\n",
    "X=df.drop(labels=['status'],axis=1)\n",
    "display (X.head())\n",
    "\n",
    "Y=df['status']\n",
    "display(Y.head())\n",
    "\n",
    "X_train,X_test,Y_train,Y_test=train_test_split(X,Y,test_size=0.2,random_state=40)\n",
    "print(X.shape,Y.shape)\n",
    "print(X_train.shape,X_test.shape,Y_train.shape,Y_test.shape)"
   ]
  },
  {
   "cell_type": "markdown",
   "id": "fa139b03-5179-451a-a7d1-a70cbf05b40c",
   "metadata": {},
   "source": [
    "### logistic Regression model"
   ]
  },
  {
   "cell_type": "code",
   "execution_count": null,
   "id": "027faf52-7ba7-4354-8674-9e1e2324783a",
   "metadata": {},
   "outputs": [],
   "source": [
    "from sklearn.linear_model import LogisticRegression\n",
    "from sklearn.metrics import accuracy_score\n",
    "\n",
    "log_reg=LogisticRegression().fit(X_train,Y_train)\n",
    "    \n",
    "#     prediction on train \n",
    "train_preds=log_reg.predict(X_train)\n",
    "# Accuracy on train \n",
    "\n",
    "print(\"Model Accuracy on train is:\", accuracy_score(Y_train,train_preds))\n",
    "\n",
    "#     prediction on test\n",
    "test_preds=log_reg.predict(X_test)\n",
    "\n",
    "# Accuracy on train \n",
    "print(\"Model Accuracy on test is:\",accuracy_score(Y_test,test_preds))\n",
    "\n",
    "print('-'*50)"
   ]
  },
  {
   "cell_type": "markdown",
   "id": "4665e116-7a8d-4eed-af28-855dfa6206e0",
   "metadata": {},
   "source": [
    "### Confusion Matrix"
   ]
  },
  {
   "cell_type": "code",
   "execution_count": null,
   "id": "5f8fb113-91f4-4a84-a5ca-2873ca3d847b",
   "metadata": {},
   "outputs": [],
   "source": [
    "y_pred_proba = log_reg.predict_proba(X_test)[::,1]\n",
    "fpr, tpr, _ = metrics.roc_curve(Y_test, y_pred_proba )\n",
    "auc = metrics.roc_auc_score(Y_test, y_pred_proba )\n",
    "plt.plot(fpr,tpr,label=\"data 1, auc=\"+str(auc))\n",
    "plt.legend(loc=4)\n",
    "plt.show()"
   ]
  },
  {
   "cell_type": "code",
   "execution_count": null,
   "id": "c95148f4-799b-412f-aab2-c645f8e676df",
   "metadata": {},
   "outputs": [],
   "source": [
    "from sklearn.metrics import ConfusionMatrixDisplay\n",
    "from sklearn.metrics import classification_report\n",
    "from sklearn import metrics\n",
    "print(\"confusion_matrix train is:\\n \", confusion_matrix(Y_train, train_preds))\n",
    "print(\"confusion_matrix test is:\\n \", confusion_matrix(Y_test, test_preds))\n",
    "print(\"\\n Classification Report Train is \")\n",
    "print(classification_report(Y_train,train_preds))\n",
    "print(\"\\n Classification Report Test is\")\n",
    "print(classification_report(Y_test,test_preds))"
   ]
  },
  {
   "cell_type": "code",
   "execution_count": null,
   "id": "dd78da94-f388-4520-ac2b-92bf31cb28e6",
   "metadata": {},
   "outputs": [],
   "source": [
    "from sklearn.metrics import confusion_matrix, ConfusionMatrixDisplay\n",
    "import matplotlib.pyplot as plt\n",
    "cm = confusion_matrix(Y_train, train_preds)\n",
    "disp = ConfusionMatrixDisplay(confusion_matrix=cm)\n",
    "disp.plot()\n",
    "plt.show()"
   ]
  },
  {
   "cell_type": "code",
   "execution_count": null,
   "id": "fe017071-d594-4253-9e64-12631dcb362b",
   "metadata": {},
   "outputs": [],
   "source": [
    "cm = confusion_matrix(Y_test, test_preds)\n",
    "disp = ConfusionMatrixDisplay(confusion_matrix=cm)\n",
    "disp.plot()\n",
    "plt.show()"
   ]
  },
  {
   "cell_type": "markdown",
   "id": "1c5f0373-2120-407b-9218-dd85d92f835f",
   "metadata": {},
   "source": [
    "### Randome forest model"
   ]
  },
  {
   "cell_type": "code",
   "execution_count": null,
   "id": "ca4c496c-ba5b-4b20-8849-0964da71a694",
   "metadata": {},
   "outputs": [],
   "source": [
    "from sklearn.ensemble import RandomForestClassifier\n",
    "\n",
    "RF= RandomForestClassifier().fit(X_train,Y_train)\n",
    "\n",
    "#  prediction on train\n",
    "train_preds2=RF.predict(X_train)\n",
    "\n",
    "# for aacuracy on train\n",
    "print(\"Model accuracy on train is:\", accuracy_score(Y_train,train_preds2))\n",
    "\n",
    "\n",
    "#  prediction on test\n",
    "test_preds2=RF.predict(X_test)\n",
    "\n",
    "# for aacuracy on train\n",
    "print(\"Model accuracy on test is:\", accuracy_score(Y_test,test_preds2))"
   ]
  },
  {
   "cell_type": "code",
   "execution_count": null,
   "id": "02c64aa9-a4df-4d32-8d1c-0b57f6013006",
   "metadata": {},
   "outputs": [],
   "source": [
    "#Confusion matrix\n",
    "print(\"confusion_matrix train is:\\n \", confusion_matrix(Y_train, train_preds2))\n",
    "print(\"confusion_matrix test is:\\n \", confusion_matrix(Y_test, test_preds2))\n",
    "print('\\nClassification Report Train is ')\n",
    "print(classification_report (Y_train, train_preds2))\n",
    "print('\\nClassification Report Test is ')\n",
    "print(classification_report (Y_test, test_preds2))"
   ]
  },
  {
   "cell_type": "code",
   "execution_count": null,
   "id": "97fdd431-ebdb-4aed-8c98-aded59ea428a",
   "metadata": {},
   "outputs": [],
   "source": [
    "# Wrong Predictions made\n",
    "print((Y_test !=test_preds2).sum(),'/',((Y_test == test_preds2).sum()+(Y_test != test_preds2).sum()))"
   ]
  },
  {
   "cell_type": "code",
   "execution_count": null,
   "id": "aef0572d-9a69-41d9-acca-81450c3eee3e",
   "metadata": {},
   "outputs": [],
   "source": [
    "print('KappaScore is: ', metrics.cohen_kappa_score(Y_test,test_preds2))\n",
    "# Kappa = 1, perfect agreement exists. \n",
    "# Kappa < 0, agreement is weaker than expected by chance; this rarely happens.\n",
    "# Kappa close to 0, the degree of agreement is the same as would be expected by chance"
   ]
  },
  {
   "cell_type": "markdown",
   "id": "3960406c-43fe-461e-bba4-ee62131a4b74",
   "metadata": {},
   "source": [
    "### Display the test and Predicted Values "
   ]
  },
  {
   "cell_type": "code",
   "execution_count": null,
   "id": "6ae859a3-0f15-4398-9150-d7ac04cf9280",
   "metadata": {},
   "outputs": [],
   "source": [
    "ddf=pd.DataFrame(data=[test_preds2,Y_test])\n",
    "display (ddf)"
   ]
  },
  {
   "cell_type": "markdown",
   "id": "c8615fae-0b83-4829-b71c-db8dad22c0ab",
   "metadata": {},
   "source": [
    "### Transpose and display"
   ]
  },
  {
   "cell_type": "code",
   "execution_count": null,
   "id": "1402d68e-967f-497b-b7c6-8fa10e7c7c09",
   "metadata": {},
   "outputs": [],
   "source": [
    "display (ddf.T) "
   ]
  },
  {
   "cell_type": "markdown",
   "id": "a0f95e4b-a07a-4f29-839e-48703d5288ec",
   "metadata": {},
   "source": [
    "### Decision Tree Classifier  "
   ]
  },
  {
   "cell_type": "code",
   "execution_count": null,
   "id": "66ceb75c-1d45-409c-8c82-5fc352ffb53f",
   "metadata": {},
   "outputs": [],
   "source": [
    "from sklearn.tree import DecisionTreeClassifier\n",
    "\n",
    "# fit model on train data\n",
    "DT= DecisionTreeClassifier().fit(X,Y)\n",
    "\n",
    "# prediction on train\n",
    "train_preds3=DT.predict(X_train)\n",
    "\n",
    "# Accuracy on train\n",
    "print(\"Model accuracy on train is: \", accuracy_score(Y_train,train_preds3))\n",
    "\n",
    "# fit model on test data\n",
    "DT= DecisionTreeClassifier().fit(X,Y)\n",
    "\n",
    "# prediction on train\n",
    "test_preds3=DT.predict(X_test)\n",
    "\n",
    "# Accuracy on train\n",
    "print(\"Model accuracy on test is: \", accuracy_score(Y_test,test_preds3))\n",
    "print('-'*50)\n",
    " \n",
    "# Confusion Matrix\n",
    "print(\"confusion_matrix train is:\\n \", confusion_matrix(Y_train, train_preds3))\n",
    "print(\"confusion_matrix test is:\\n \", confusion_matrix(Y_test, test_preds3))\n",
    "print('Wrong predictions out of total')\n",
    "print('-'*50)\n",
    " \n",
    "print('\\nClassification Report Train is ')\n",
    "print(classification_report (Y_train, train_preds3))\n",
    "print('\\nClassification Report Test is ')\n",
    "print(classification_report (Y_test, test_preds3))"
   ]
  },
  {
   "cell_type": "markdown",
   "id": "14cc9f36-77fa-4ef7-ac48-450635963948",
   "metadata": {},
   "source": [
    "#### Wrong Prediction and Kappa Score   \n",
    "#### Wrong Predictions made."
   ]
  },
  {
   "cell_type": "code",
   "execution_count": null,
   "id": "406d1334-4ee2-4d07-936c-c807d77c55b9",
   "metadata": {},
   "outputs": [],
   "source": [
    "print((Y_test !=test_preds3).sum(),'/',((Y_test == test_preds3).sum()+(Y_test != test_preds3).sum()))\n",
    "print('-'*50)"
   ]
  },
  {
   "cell_type": "code",
   "execution_count": null,
   "id": "1ddd94f1-6db8-4ae3-8650-0d66c710c429",
   "metadata": {},
   "outputs": [],
   "source": [
    "# Kappa Score\n",
    "print('KappaScore is: ', metrics.cohen_kappa_score(Y_test,test_preds3))"
   ]
  },
  {
   "cell_type": "markdown",
   "id": "4f1d3b25-088d-498f-98b2-15346a7f2501",
   "metadata": {},
   "source": [
    "####  Kappa = 1, perfect agreement exists. "
   ]
  },
  {
   "cell_type": "markdown",
   "id": "19449889-dd19-42d4-85a8-f4fe8ae5dbbd",
   "metadata": {},
   "source": [
    "### Naïve Bayce  algorithm "
   ]
  },
  {
   "cell_type": "code",
   "execution_count": null,
   "id": "c56d57f6-2e45-4ab2-a758-2a801c3b2540",
   "metadata": {},
   "outputs": [],
   "source": [
    "from sklearn.naive_bayes import GaussianNB\n",
    "import numpy as np\n",
    "import os,sys\n",
    "import pandas as pd\n",
    "from scipy import stats\n",
    "from sklearn.model_selection import train_test_split\n",
    "from sklearn.metrics import accuracy_score\n",
    "\n",
    "#fit the model on train data \n",
    "NB=GaussianNB()\n",
    "NB.fit(X_train,Y_train)\n",
    "#predict on train \n",
    "train_preds4 = NB.predict(X_train)\n",
    "#accuracy on train\n",
    "print(\"Model accuracy on train is: \", accuracy_score(Y_train, train_preds4))\n",
    "\n",
    "#predict on test\n",
    "test_preds4 = NB.predict(X_test)\n",
    "#accuracy on test\n",
    "print(\"Model accuracy on test is: \", accuracy_score(Y_test, test_preds4))\n",
    "print('-'*50)\n",
    "#Confusion matrix\n",
    "print(\"confusion_matrix train is: \\n\", confusion_matrix(Y_train, train_preds4))\n",
    "print(\"confusion_matrix test is:\\n \", confusion_matrix(Y_test, test_preds4))\n",
    "print('Wrong predictions out of total')\n",
    "print('-'*50)\n",
    "print('\\nClassification Report Train is ')\n",
    "print(classification_report (Y_train, train_preds4))\n",
    "print('\\nClassification Report Test is ')\n",
    "print(classification_report (Y_test, test_preds4))\n",
    "\n",
    "# Wrong Prediction and Kappa Score   \n",
    "# Wrong Predictions made.\n",
    "\n",
    "print((Y_test !=test_preds4).sum(),'/',((Y_test == test_preds4).sum()+(Y_test != test_preds4).sum()))\n",
    "print('-'*50)\n",
    "\n",
    "# Kappa Score\n",
    "print('KappaScore is: ', metrics.cohen_kappa_score(Y_test,test_preds4))"
   ]
  },
  {
   "cell_type": "markdown",
   "id": "fdece111-d751-4451-b501-896f302642d4",
   "metadata": {},
   "source": [
    "#### Wrong prediction and kappa score"
   ]
  },
  {
   "cell_type": "code",
   "execution_count": null,
   "id": "bdd2acea-e851-44dd-bb4f-92e148e2f85a",
   "metadata": {},
   "outputs": [],
   "source": [
    "# wrong prediction made\n",
    "print((Y_test!=test_preds4.sum(),'/',((Y_test==test_preds4).sum()+(Y_test!=test_preds4).sum())))\n",
    "print('-'*50)\n",
    "\n",
    "# kappa score\n",
    "print('KappaScore is: ',metrics.cohen_kappa_score(Y_test,test_preds4))"
   ]
  },
  {
   "cell_type": "markdown",
   "id": "b788122d-41b3-4d9d-b34f-748d9ca38de1",
   "metadata": {},
   "source": [
    "### K Neighbours Classifier"
   ]
  },
  {
   "cell_type": "code",
   "execution_count": null,
   "id": "a0381b67-92e6-4b71-a434-c4bc08a8a6e4",
   "metadata": {},
   "outputs": [],
   "source": [
    "Ks = 10\n",
    "mean_acc = []\n",
    "ConfustionMx = [];\n",
    "for n in range(2,Ks):\n",
    "    \n",
    "    #Train Model and Predict  \n",
    "    neigh = KNeighborsClassifier(n_neighbors = n).fit(X_train,Y_train)\n",
    "    yhat=neigh.predict(X_test)\n",
    "    mean_acc.append(metrics.accuracy_score(Y_test, yhat))  \n",
    "print('Neighbor Accuracy List')\n",
    "print(mean_acc)"
   ]
  },
  {
   "cell_type": "code",
   "execution_count": null,
   "id": "8b68637c-7f4b-4b7d-9d4b-97b8db48c32c",
   "metadata": {},
   "outputs": [],
   "source": [
    "plt.plot(range(2,Ks),mean_acc,'g')\n",
    "plt.ylabel('Accuracy ')\n",
    "plt.xlabel('Number of Neighbours (K)')\n",
    "plt.tight_layout()\n",
    "plt.show()"
   ]
  },
  {
   "cell_type": "code",
   "execution_count": null,
   "id": "7452bab7-baa5-4cd4-a7e5-f0c07c278c91",
   "metadata": {},
   "outputs": [],
   "source": [
    " from sklearn.neighbors  import KNeighborsClassifier\n",
    "\n",
    "# fit the data on train data\n",
    "KNN = KNeighborsClassifier().fit(X_train,Y_train)\n",
    "# predict on train\n",
    "train_preds5=KNN.predict(X_train)\n",
    "# accuracy on train\n",
    "print(\"Model accuracy on train is :\",accuracy_score(Y_train,train_preds5))\n",
    "\n",
    "# fit the data on test data\n",
    "# prediction on test\n",
    "# test_preds5=KNN.predict(X_train)\n",
    "# # accuracy on test\n",
    "# print(\"Model accuracy on test is:\",accuracy_score(Y_test,test_preds5))\n",
    "# print('_'*50)\n",
    "test_preds5 = KNN.predict(X_test)\n",
    "#accuracy on test\n",
    "print(\"Model accuracy on test is: \", accuracy_score(Y_test, test_preds5))\n",
    "print('-'*50)\n",
    "\n",
    "\n",
    "# confusion matrix\n",
    "print(\"confusion_matrix train is:\\n \", confusion_matrix(Y_train, train_preds5))\n",
    "print(\"confusion_matrix test is:\\n \", confusion_matrix(Y_test, test_preds5))\n",
    "print('Wrong predictions out of total')\n",
    "print('-'*50)\n",
    "print('\\nClassification Report Train is ')\n",
    "print(classification_report (Y_train, train_preds5))\n",
    "print('\\nClassification Report Test is ')\n",
    "print(classification_report (Y_test, test_preds5))"
   ]
  },
  {
   "cell_type": "code",
   "execution_count": null,
   "id": "a0f4a567-86b5-4df6-ac54-1e58040bee66",
   "metadata": {},
   "outputs": [],
   "source": [
    "# Wrong Prediction and Kappa Score   \n",
    "\n",
    "# Wrong Predictions made.\n",
    "print((Y_test !=test_preds5).sum(),'/',((Y_test == test_preds5).sum()+(Y_test != test_preds5).sum()))\n",
    "\n",
    "print('-'*50)\n",
    "# Kappa Score\n",
    "print('KappaScore is: ', metrics.cohen_kappa_score(Y_test,test_preds5))\n"
   ]
  },
  {
   "cell_type": "markdown",
   "id": "63285ce2-5cbb-4b2d-bad4-e13aa40f3fd9",
   "metadata": {},
   "source": [
    "### Support Vector Machine "
   ]
  },
  {
   "cell_type": "code",
   "execution_count": null,
   "id": "a0cf0d4c-04ef-4b48-9583-fd3a2526407d",
   "metadata": {},
   "outputs": [],
   "source": [
    "from sklearn.svm import SVC\n",
    "#fit the model on train data \n",
    "SVM = SVC(kernel='linear')\n",
    "SVM.fit(X_train, Y_train)\n",
    "\n",
    "#predict on train \n",
    "train_preds6 = SVM.predict(X_train)\n",
    "#accuracy on train\n",
    "print(\"Model accuracy on train is: \", accuracy_score(Y_train, train_preds6))\n",
    "\n",
    "#predict on test\n",
    "test_preds6 = SVM.predict(X_test)\n",
    "#accuracy on test\n",
    "print(\"Model accuracy on test is: \", accuracy_score(Y_test, test_preds6))\n",
    "print('-'*50)\n",
    "#Confusion matrix\n",
    "print(\"confusion_matrix train is: \\n\", confusion_matrix(Y_train, train_preds6))\n",
    "print(\"confusion_matrix test is:\\n \", confusion_matrix(Y_test, test_preds6))\n",
    "print('Wrong predictions out of total')\n",
    "print('-'*50)\n",
    "\n",
    "print(\"recall\", metrics.recall_score(Y_test, test_preds6))\n",
    "print('-'*50)\n",
    "print('\\nClassification Report Train is ')\n",
    "print(classification_report (Y_train, train_preds6))\n",
    "print('\\nClassification Report Test is ')\n",
    "print(classification_report (Y_test, test_preds6))   "
   ]
  },
  {
   "cell_type": "code",
   "execution_count": null,
   "id": "2e1b605f-7d78-4326-be25-9a2cbd5408fa",
   "metadata": {},
   "outputs": [],
   "source": [
    "from sklearn.metrics import confusion_matrix, ConfusionMatrixDisplay\n",
    "from sklearn.svm import SVC\n",
    "from sklearn.model_selection import GridSearchCV\n",
    "param_grid = {\n",
    "    'C': [0.1, 1, 10],\n",
    "    'kernel': ['linear', 'rbf']\n",
    "}\n",
    "grid_SVC = GridSearchCV(SVC(), param_grid, cv=5)\n",
    "grid_SVC.fit(X_train, Y_train) "
   ]
  },
  {
   "cell_type": "code",
   "execution_count": null,
   "id": "c2e0b9e0-9f3c-413b-976b-4bb55f0740c2",
   "metadata": {},
   "outputs": [],
   "source": [
    "best_svc = grid_SVC.best_estimator_\n",
    "\n",
    "y_pred = best_svc.predict(X_test)\n",
    "\n",
    "cm = confusion_matrix(Y_train, train_preds6)\n",
    "\n",
    "# Plot the confusion matrix\n",
    "disp = ConfusionMatrixDisplay(confusion_matrix=cm, display_labels=best_svc.classes_)\n",
    "disp.plot(cmap=plt.cm.Blues)\n",
    "plt.title('Confusion Matrix for SVM', y=1.1)\n",
    "plt.show()\n"
   ]
  },
  {
   "cell_type": "code",
   "execution_count": null,
   "id": "58f59acf-11ee-4f69-b2d3-5c4c802369ab",
   "metadata": {},
   "outputs": [],
   "source": [
    "# Wrong Prediction and Kappa Score   \n",
    "\n",
    "# Wrong Predictions made.\n",
    "print((Y_test !=test_preds6).sum(),'/',((Y_test == test_preds6).sum()+(Y_test != test_preds6).sum()))\n",
    "print('-'*50)\n",
    "# Kappa Score\n",
    "print('KappaScore is: ', metrics.cohen_kappa_score(Y_test,test_preds6))"
   ]
  },
  {
   "cell_type": "markdown",
   "id": "e0c88a17-6c2b-4534-8355-a52d6d85aca2",
   "metadata": {},
   "source": [
    "### Create Pickle File    "
   ]
  },
  {
   "cell_type": "code",
   "execution_count": null,
   "id": "488c5809-ca02-45d8-89b6-009a406968ec",
   "metadata": {},
   "outputs": [],
   "source": [
    "import pickle \n",
    "# Saving model to disk\n",
    "pickle.dump(SVM,open('deploy_SVM.pkl','wb'))\n",
    "# Open the Pickle File \n",
    "model=pickle.load(open('deploy_SVM.pkl','rb'))\n",
    "# Prediction \n",
    "print (model.predict (X_train))\n"
   ]
  }
 ],
 "metadata": {
  "kernelspec": {
   "display_name": "Python 3 (ipykernel)",
   "language": "python",
   "name": "python3"
  },
  "language_info": {
   "codemirror_mode": {
    "name": "ipython",
    "version": 3
   },
   "file_extension": ".py",
   "mimetype": "text/x-python",
   "name": "python",
   "nbconvert_exporter": "python",
   "pygments_lexer": "ipython3",
   "version": "3.11.7"
  },
  "widgets": {
   "application/vnd.jupyter.widget-state+json": {
    "state": {},
    "version_major": 2,
    "version_minor": 0
   }
  }
 },
 "nbformat": 4,
 "nbformat_minor": 5
}
